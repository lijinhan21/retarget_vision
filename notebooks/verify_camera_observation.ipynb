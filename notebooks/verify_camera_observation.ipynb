{
 "cells": [
  {
   "cell_type": "code",
   "execution_count": null,
   "metadata": {},
   "outputs": [],
   "source": [
    "\"\"\"\n",
    "This is a script to verify the camera observations of the real robot. We assume that you are using deoxys_vision (https://github.com/UT-Austin-RPL/deoxys_vision) for capturing images. If you are using a different vision pipeline, please modify the code accordingly. \n",
    "\"\"\"\n",
    "\n",
    "import plotly.graph_objs as go\n",
    "\n",
    "from deoxys import config_root\n",
    "from deoxys.franka_interface import FrankaInterface\n",
    "from deoxys.utils import YamlConfig\n",
    "from deoxys.utils.input_utils import input2action\n",
    "from deoxys.utils.io_devices import SpaceMouse\n",
    "from deoxys.utils.log_utils import get_deoxys_example_logger\n",
    "\n",
    "from deoxys_vision.networking.camera_redis_interface import \\\n",
    "    CameraRedisSubInterface\n",
    "from deoxys_vision.utils.calibration_utils import load_default_extrinsics, load_default_intrinsics\n",
    "from deoxys_vision.utils.camera_utils import assert_camera_ref_convention, get_camera_info\n",
    "\n",
    "import sys\n",
    "sys.path.append(\"..\")\n",
    "from orion.utils.misc_utils import depth_to_rgb\n",
    "from orion.utils.o3d_utils import O3DPointCloud, scene_pcd_fn\n",
    "\n",
    "from orion.utils.real_robot_utils import RealRobotObsProcessor\n",
    "\n",
    "# Make sure that you've launched camera nodes somewhere else\n",
    "observation_cfg = YamlConfig(\"../configs/real_robot_observation_cfg.yml\").as_easydict()\n",
    "\n",
    "observation_cfg.cameras = []\n",
    "for camera_ref in observation_cfg.camera_refs:\n",
    "    assert_camera_ref_convention(camera_ref)\n",
    "    camera_info = get_camera_info(camera_ref)\n",
    "\n",
    "    observation_cfg.cameras.append(camera_info)\n",
    "\n",
    "obs_processor = RealRobotObsProcessor(observation_cfg,\n",
    "                                        processor_name=\"ImageProcessor\")\n",
    "obs_processor.load_intrinsic_matrix(resize=False)\n",
    "obs_processor.load_extrinsic_matrix()\n",
    "extrinsic_matrix = obs_processor.get_extrinsic_matrix(\"agentview\")\n",
    "intrinsic_matrix = obs_processor.get_intrinsic_matrix(\"agentview\")\n",
    "\n",
    "color_imgs, depth_imgs = obs_processor.get_original_imgs()\n",
    "print(color_imgs[0].shape)\n",
    "\n",
    "pcd_points, pcd_colors = scene_pcd_fn(\n",
    "    rgb_img_input=color_imgs[0],\n",
    "    depth_img_input=depth_imgs[0],\n",
    "    extrinsic_matrix=extrinsic_matrix,\n",
    "    intrinsic_matrix=intrinsic_matrix,\n",
    ")\n",
    "\n",
    "print(pcd_points.shape)"
   ]
  },
  {
   "cell_type": "code",
   "execution_count": null,
   "metadata": {},
   "outputs": [],
   "source": [
    "from orion.utils.misc_utils import plotly_draw_3d_pcd\n",
    "plotly_draw_3d_pcd(pcd_points, pcd_colors)"
   ]
  },
  {
   "cell_type": "code",
   "execution_count": null,
   "metadata": {},
   "outputs": [],
   "source": [
    "import matplotlib.pyplot as plt\n",
    "import numpy as np\n",
    "plt.imshow(np.concatenate((color_imgs[0], depth_to_rgb(depth_imgs[0])), axis=1))\n",
    "print(depth_imgs[0].min(), depth_imgs[0].max())"
   ]
  }
 ],
 "metadata": {
  "kernelspec": {
   "display_name": "vos_3d_real",
   "language": "python",
   "name": "python3"
  },
  "language_info": {
   "codemirror_mode": {
    "name": "ipython",
    "version": 3
   },
   "file_extension": ".py",
   "mimetype": "text/x-python",
   "name": "python",
   "nbconvert_exporter": "python",
   "pygments_lexer": "ipython3",
   "version": "3.9.16"
  }
 },
 "nbformat": 4,
 "nbformat_minor": 2
}
